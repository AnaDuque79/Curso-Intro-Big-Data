{
 "metadata": {
  "name": "",
  "signature": "sha256:c6d9faa991a1a7a8324114726246cf68c41c476c1b33ac4c9604d1abc262f689"
 },
 "nbformat": 3,
 "nbformat_minor": 0,
 "worksheets": [
  {
   "cells": [
    {
     "cell_type": "markdown",
     "metadata": {},
     "source": [
      "# Introducci\u00f3n\n",
      "\n",
      "Cuando implementamos programas para tratamiento y an\u00e1lisis de datos, uno de los requisitos que surge con gran frecuencia es c\u00f3mo podemos paralelizar la ejecuci\u00f3n de tareas que tengan poca o ninguna dependencia entre s\u00ed. Si bien es cierto que plataformas como Hadoop resuelven este problema escalando el tratamiento de datos en un cluster de varias m\u00e1quinas, no siempre se puede tener acceso a ese tipo de recursos. Por otro lado, en ocasiones una implementaci\u00f3n m\u00e1s sencilla puede ayudarnos a ahorrar tiempo, paralelizando ciertas tareas sin gran esfuerzo.\n",
      "\n",
      "En este contexto, surge la utilidad del m\u00f3dulo `multiprocessing` en Python [1]. Este m\u00f3dulo nos ofrece una interfaz sencilla para la ejecuci\u00f3n de m\u00faltiples procesos en paralelo, siempre y cuando nuestro equipo cuente con m\u00e1s de una unidad de procesamiento (como resulta habitual en el hardware moderno). El cat\u00e1logo de m\u00e9todos que incluye la API de `multiprocessing` se dise\u00f1\u00f3 para ser muy similar al que ofrece el m\u00f3dulo `threading`."
     ]
    },
    {
     "cell_type": "markdown",
     "metadata": {},
     "source": [
      "# Primer ejemplo\n",
      "\n",
      "Veamos un primer ejemplo sencillo de c\u00f3mo podemos crear m\u00faltiples procesos con esta f\u00f3rmula."
     ]
    },
    {
     "cell_type": "code",
     "collapsed": false,
     "input": [
      "import multiprocessing as mp\n",
      "\n",
      "def worker(num):\n",
      "    \"\"\"\n",
      "    M\u00e9todo que realizar\u00e1 el trabajo, clon\u00e1ndose en cada nuevo proceso\n",
      "    \"\"\"\n",
      "    name = mp.current_process().name\n",
      "    print \"Comenzando proceso: %s\" % name\n",
      "    print \"Worker n\u00famero: %s\" % num\n",
      "    print \"Finalizando proceso: %s\" % name\n",
      "    \n",
      "    \n",
      "if __name__ == \"__main__\":\n",
      "    # Definici\u00f3n y puesta en marcha de subprocesos\n",
      "    # Mantenemos un listado de referencias a los procesos creados\n",
      "    workers = []\n",
      "    for i in range(5):\n",
      "        p = mp.Process(name=\"Proceso-\"+unicode(i), target=worker, args=(i,) )\n",
      "        workers.append(p)\n",
      "        workers[i].start()\n",
      "        \n",
      "    # Esperar a que finalicen todos los subprocesos\n",
      "    for p in workers:\n",
      "        p.join()"
     ],
     "language": "python",
     "metadata": {},
     "outputs": [
      {
       "output_type": "stream",
       "stream": "stdout",
       "text": [
        "Comenzando proceso: Proceso-0\n",
        "Comenzando proceso: Proceso-1\n",
        "Comenzando proceso: Proceso-3\n",
        "Comenzando proceso: Proceso-2\n",
        "Comenzando proceso: Proceso-4\n",
        "Worker n\u00famero: 0\n",
        "Worker n\u00famero: 1\n",
        "Worker n\u00famero: 3\n",
        "Worker n\u00famero: 2\n",
        "Worker n\u00famero: 4\n",
        "Finalizando proceso: Proceso-0\n",
        "Finalizando proceso: Proceso-1\n",
        "Finalizando proceso: Proceso-3\n",
        "Finalizando proceso: Proceso-2\n",
        "Finalizando proceso: Proceso-4\n"
       ]
      }
     ],
     "prompt_number": 6
    },
    {
     "cell_type": "markdown",
     "metadata": {},
     "source": [
      "## Ejercicio 1\n",
      "\n",
      "El m\u00e9todo `p.is_alive()` permite comprobar si un proceso contin\u00faa vivo o no. Modifique el ejemplo anterior para comprobar que mientras los subprocesos que hemos creado siguen activos el proceso padre puede recuperar el estado de ejecuci\u00f3n de cada proceso."
     ]
    },
    {
     "cell_type": "markdown",
     "metadata": {},
     "source": [
      "# Servicio de logging\n",
      "\n",
      "Adem\u00e1s de las funciones b\u00e1sicas de creaci\u00f3n, terminaci\u00f3n, configuraci\u00f3n y espera de la finalizaci\u00f3n de procesos, tenemos a nuestra disposici\u00f3n otras funciones muy \u00fatiles tales como un servicio centralizado de *logging* para todos nuestros subprocesos. Veamos un ejemplo."
     ]
    },
    {
     "cell_type": "code",
     "collapsed": false,
     "input": [
      "import multiprocessing as mp\n",
      "import logging\n",
      "import time\n",
      "\n",
      "def worker(num):\n",
      "    \"\"\"\n",
      "    M\u00e9todo que realizar\u00e1 el trabajo, clon\u00e1ndose en cada nuevo proceso\n",
      "    \"\"\"\n",
      "    name = mp.current_process().name\n",
      "    print \"Comenzando proceso: %s\" % name\n",
      "    time.sleep(2)  # Cada subproceso esperar\u00e1 2 segs.\n",
      "    print \"Finalizando proceso: %s\" % name\n",
      "    \n",
      "    \n",
      "if __name__ == \"__main__\":\n",
      "    # Definici\u00f3n y activaci\u00f3n del logger centralizado\n",
      "    mp.log_to_stderr()\n",
      "    logger = mp.get_logger()\n",
      "    logger.setLevel(logging.INFO)\n",
      "    \n",
      "    # Definici\u00f3n y puesta en marcha de subprocesos\n",
      "    # Mantenemos un listado de referencias a los procesos creados\n",
      "    workers = []\n",
      "    for i in range(5):\n",
      "        p = mp.Process(name=\"Proceso-\"+unicode(i), target=worker, args=(i,) )\n",
      "        workers.append(p)\n",
      "        workers[i].start()\n",
      "        \n",
      "    # Esperar a que finalicen todos los subprocesos\n",
      "    for p in workers:\n",
      "        p.join()"
     ],
     "language": "python",
     "metadata": {},
     "outputs": [
      {
       "output_type": "stream",
       "stream": "stdout",
       "text": [
        "Comenzando proceso: Proceso-1\n",
        "Comenzando proceso: Proceso-0\n",
        "Comenzando proceso: Proceso-3\n",
        "Comenzando proceso: Proceso-4\n",
        "Comenzando proceso: Proceso-2\n",
        "Finalizando proceso: Proceso-1Finalizando proceso: Proceso-0Finalizando proceso: Proceso-3Finalizando proceso: Proceso-4Finalizando proceso: Proceso-2\n",
        "\n",
        "\n",
        "\n",
        "\n"
       ]
      },
      {
       "output_type": "stream",
       "stream": "stderr",
       "text": [
        "[INFO/Proceso-0] child process calling self.run()\n",
        "[INFO/Proceso-2] child process calling self.run()\n",
        "[INFO/Proceso-1] child process calling self.run()\n",
        "[INFO/Proceso-3] child process calling self.run()\n",
        "[INFO/Proceso-4] child process calling self.run()\n",
        "[INFO/Proceso-0] child process calling self.run()\n",
        "[INFO/Proceso-2] child process calling self.run()\n",
        "[INFO/Proceso-1] child process calling self.run()\n",
        "[INFO/Proceso-3] child process calling self.run()\n",
        "[INFO/Proceso-4] child process calling self.run()\n",
        "[INFO/Proceso-0] process shutting down\n",
        "[INFO/Proceso-2] process shutting down\n",
        "[INFO/Proceso-1] process shutting down\n",
        "[INFO/Proceso-3] process shutting down\n",
        "[INFO/Proceso-4] process shutting down\n",
        "[INFO/Proceso-0] process shutting down\n",
        "[INFO/Proceso-2] process shutting down\n",
        "[INFO/Proceso-1] process shutting down\n",
        "[INFO/Proceso-3] process shutting down\n",
        "[INFO/Proceso-4] process shutting down\n",
        "[INFO/Proceso-0] process exiting with exitcode 0\n",
        "[INFO/Proceso-2] process exiting with exitcode 0\n",
        "[INFO/Proceso-1] process exiting with exitcode 0\n",
        "[INFO/Proceso-3] process exiting with exitcode 0\n",
        "[INFO/Proceso-4] process exiting with exitcode 0\n",
        "[INFO/Proceso-0] process exiting with exitcode 0\n",
        "[INFO/Proceso-2] process exiting with exitcode 0\n",
        "[INFO/Proceso-1] process exiting with exitcode 0\n",
        "[INFO/Proceso-3] process exiting with exitcode 0\n",
        "[INFO/Proceso-4] process exiting with exitcode 0\n"
       ]
      }
     ],
     "prompt_number": 2
    },
    {
     "cell_type": "markdown",
     "metadata": {},
     "source": [
      "# Pool de procesos\n",
      "\n",
      "En aquellos casos en los que los procesos pueden realizar tareas completamente independientes entre s\u00ed, podemos optar por utilizar un `Pool` de procesos."
     ]
    },
    {
     "cell_type": "code",
     "collapsed": false,
     "input": [
      "import multiprocessing as mp\n",
      "import math\n",
      "\n",
      "def do_calculation(data):\n",
      "    return math.sqrt(data)\n",
      "\n",
      "def initialize():\n",
      "    print 'Comenzando', mp.current_process().name\n",
      "\n",
      "if __name__ == '__main__':\n",
      "    logger.setLevel(logging.NOTSET)  # Disable previous logger\n",
      "    inputs = [i ** 2 for i in list(range(10))]\n",
      "    print 'Entrada   :', inputs\n",
      "    \n",
      "    # Salida del m\u00e9todo 'map' de la biblioteca standard de Python\n",
      "    builtin_outputs = map(do_calculation, inputs)\n",
      "    print 'Salida map: ', builtin_outputs\n",
      "    \n",
      "    # Versi\u00f3n con multiprocessing.Pool\n",
      "    pool_size = mp.cpu_count() * 2  # Calculamos tama\u00f1o del pool en funci\u00f3n del num. de cores\n",
      "    pool = mp.Pool(processes=pool_size,\n",
      "                   initializer=initialize,\n",
      "                   )\n",
      "    pool_outputs = pool.map(do_calculation, inputs)\n",
      "    pool.close()  # fin de las tareas\n",
      "    pool.join()   # esperamos finalizaci\u00f3n de procesos\n",
      "\n",
      "    print 'Salida pool: ', pool_outputs"
     ],
     "language": "python",
     "metadata": {},
     "outputs": [
      {
       "output_type": "stream",
       "stream": "stdout",
       "text": [
        "Entrada   : [0, 1, 4, 9, 16, 25, 36, 49, 64, 81]\n",
        "Salida map:  [0.0, 1.0, 2.0, 3.0, 4.0, 5.0, 6.0, 7.0, 8.0, 9.0]\n"
       ]
      },
      {
       "output_type": "stream",
       "stream": "stdout",
       "text": [
        "Comenzando PoolWorker-27\n"
       ]
      },
      {
       "output_type": "stream",
       "stream": "stdout",
       "text": [
        "Comenzando PoolWorker-28\n"
       ]
      },
      {
       "output_type": "stream",
       "stream": "stdout",
       "text": [
        "Salida pool:  [0.0, 1.0, 2.0, 3.0, 4.0, 5.0, 6.0, 7.0, 8.0, 9.0]\n",
        "Comenzando PoolWorker-30\n",
        "Comenzando PoolWorker-32\n",
        "Comenzando PoolWorker-29\n",
        "Comenzando PoolWorker-31\n",
        "Comenzando PoolWorker-34\n",
        "Comenzando PoolWorker-33\n"
       ]
      }
     ],
     "prompt_number": 5
    },
    {
     "cell_type": "markdown",
     "metadata": {},
     "source": [
      "# Pipelining de datos\n",
      "\n",
      "Un patr\u00f3n de programaci\u00f3n muy com\u00fan es el llamado *fan out/fan in*, tambi\u00e9n conocido como *pipelining* de datos. En este esquema, un proceso va generando bloques de datos que se pueden procesar independientemente, y los env\u00eda a un grupo de procesos intermedios (*workers*) para su procesado. Finalmente, una vez completado el procesado los workers env\u00edan los resultados a uno o varios procesos que los consolidan y env\u00edan de vuelta al programa principal.\n",
      "\n",
      "Un posible esquema para implementar esta estrategia ser\u00eda el siguiente [2, 3]."
     ]
    },
    {
     "cell_type": "markdown",
     "metadata": {},
     "source": [
      "## Productor"
     ]
    },
    {
     "cell_type": "code",
     "collapsed": false,
     "input": [
      "import multiprocessing as mp\n",
      "\n",
      "class ProducerProcess(mp.Process):\n",
      "    \"\"\"Genera items que se colocan en una cola (Queue),\n",
      "    esperando ser procesados.\n",
      "    \n",
      "    El \"target\" debe ser una funci\u00f3n generadora que produzca items\n",
      "    serializables.\n",
      "    \"\"\"\n",
      "    def __init__(self, group=None, target=None, name=None, args=None,\n",
      "                 kwargs=None, output_queue=None, consumers=0):\n",
      "        super(ProducerProcess, self).__init__(name=name)\n",
      "        self.target= target\n",
      "        self.args= args if args is not None else []\n",
      "        self.kwargs= kwargs if kwargs is not None else {}\n",
      "        self.output_queue= output_queue\n",
      "        self.consumers= consumers\n",
      "    \n",
      "    def run(self):\n",
      "        target= self.target\n",
      "        for item in target(*self.args, **self.kwargs):\n",
      "            self.output_queue.put(item)\n",
      "        for x in range(self.consumers):\n",
      "            # Insertar marcas de parada para los procesos consumidores\n",
      "            self.output_queue.put(None)\n",
      "        self.output_queue.close()"
     ],
     "language": "python",
     "metadata": {},
     "outputs": [],
     "prompt_number": 7
    },
    {
     "cell_type": "markdown",
     "metadata": {},
     "source": [
      "## Worker (procesador intermedio)"
     ]
    },
    {
     "cell_type": "code",
     "collapsed": false,
     "input": [
      "import multiprocessing as mp\n",
      "\n",
      "class ConsumerProducerProcess( mp.Process ):\n",
      "    \"\"\"Consume items de una cola, los procesa y los coloca en\n",
      "    otra cola para su consolidaci\u00f3n final por parte de los consumidores.\n",
      "    \n",
      "    El \"target\" debe ser una funci\u00f3n generadora que cree items\n",
      "    serializables y que espere un iterable como su \u00fanico argumento. \n",
      "    Por tanto, los argumentos 'args' no se emplean aqu\u00ed.\n",
      "    \"\"\"\n",
      "    def __init__(self, group=None, target=None, name=None, kwargs=None,\n",
      "                 input_queue=None, producers=0, output_queue=None, consumers=0):\n",
      "        super(ConsumerProducerProcess, self).__init__(name=name)\n",
      "        self.target= target\n",
      "        self.kwargs= kwargs if kwargs is not None else {}\n",
      "        self.input_queue= input_queue\n",
      "        self.producers= producers\n",
      "        self.output_queue= output_queue\n",
      "        self.consumers= consumers\n",
      "    \n",
      "    def items(self):\n",
      "        while self.producers != 0:\n",
      "            for item in iter(self.input_queue.get, None):\n",
      "                yield item\n",
      "            self.producers -= 1\n",
      "    \n",
      "    def run(self):\n",
      "        target= self.target\n",
      "        for item in target(self.items(), **self.kwargs):\n",
      "            self.output_queue.put(item)\n",
      "        for x in range(self.consumers):\n",
      "            # Insertamos marca de finalizaci\u00f3n para todos los consumidores\n",
      "            self.output_queue.put(None)\n",
      "        self.output_queue.close()"
     ],
     "language": "python",
     "metadata": {},
     "outputs": [],
     "prompt_number": 9
    },
    {
     "cell_type": "markdown",
     "metadata": {},
     "source": [
      "## Consumidor"
     ]
    },
    {
     "cell_type": "code",
     "collapsed": false,
     "input": [
      "import multiprocessing as mp\n",
      "\n",
      "class ConsumerProcess(mp.Process):\n",
      "    \"\"\"Cosume items de una cola (Queue).\n",
      "    \n",
      "    El \"target\" debe ser un m\u00e9todo que espere un iterable como \u00fanico\n",
      "    argumento. Los argumentos 'args' no se emplean.\n",
      "    \"\"\"\n",
      "    def __init__(self, group=None, target=None, name=None, kwargs=None,\n",
      "                 input_queue=None, producers=0):\n",
      "        super(ConsumerProcess, self).__init__(name=name)\n",
      "        self.target= target\n",
      "        self.kwargs= kwargs if kwargs is not None else {}\n",
      "        self.input_queue= input_queue\n",
      "        self.producers= producers\n",
      "    \n",
      "    def items(self):\n",
      "        while self.producers != 0:\n",
      "            for item in iter(self.input_queue.get, None):\n",
      "                yield item\n",
      "            self.producers -= 1\n",
      "    \n",
      "    def run(self):\n",
      "        target= self.target\n",
      "        target(self.items(), **self.kwargs)"
     ],
     "language": "python",
     "metadata": {},
     "outputs": [],
     "prompt_number": 10
    },
    {
     "cell_type": "markdown",
     "metadata": {},
     "source": [
      "# Referencias\n",
      "1. Doug Hellmann. Multiprocessing-PyMOTW. http://pymotw.com/2/multiprocessing/ (\u00daltimo acceso marzo 2015).\n",
      "2. Steven F. Lott. Multiprocessing goodness, part I. http://slott-softwarearchitect.blogspot.com.es/2012/02/multiprocessing-goodness-part-1-use.html (\u00daltimo acceso marzo 2015).\n",
      "3. Steven F. Lott. Multiprocessing goodness, part II. http://slott-softwarearchitect.blogspot.com.es/2012/02/multiprocessing-goodness-part-2-class.html (\u00daltimo acceso marzo 2015)."
     ]
    },
    {
     "cell_type": "code",
     "collapsed": false,
     "input": [],
     "language": "python",
     "metadata": {},
     "outputs": []
    }
   ],
   "metadata": {}
  }
 ]
}