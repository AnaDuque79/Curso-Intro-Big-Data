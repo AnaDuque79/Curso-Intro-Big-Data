{
 "metadata": {
  "name": "",
  "signature": "sha256:33ee1fd246044e32dea683699f399f6ff10d9c3cd841e6de897801056e638579"
 },
 "nbformat": 3,
 "nbformat_minor": 0,
 "worksheets": [
  {
   "cells": [
    {
     "cell_type": "markdown",
     "metadata": {},
     "source": [
      "# Laboratorio de carga y procesado de datos: XML"
     ]
    },
    {
     "cell_type": "markdown",
     "metadata": {},
     "source": [
      "En este laboratorio pr\u00e1ctico, presentaremos los fundamentos b\u00e1sicos para descargar, procesar, transformar y almacenar localmente datos disponibles de diversas fuentes en la Web. Para ello, nos basaremos en algunas de las bibliotecas m\u00e1s utilizadas en Python, tales como *requests* o *lxml*. En la secci\u00f3n final se incluyen referencias adicionales para aquellos interesados en profundizar m\u00e1s en estos aspectos.\n",
      "\n",
      "Este laboratorio est\u00e1 basado en recuperaci\u00f3n y procesado de datos en formato [XML](http://en.wikipedia.org/wiki/XML). El siguiente laboratorio tendr\u00e1 por objeto presentar un ejmplo de flujo de trabajo similar con datos en formato [JSON](http://en.wikipedia.org/wiki/JSON), utilizado por numerosas APIs de datos abiertos en Internet, as\u00ed como datos en formato [CSV](http://en.wikipedia.org/wiki/Comma-separated_values)."
     ]
    },
    {
     "cell_type": "heading",
     "level": 2,
     "metadata": {},
     "source": [
      "Content"
     ]
    },
    {
     "cell_type": "markdown",
     "metadata": {},
     "source": [
      "1. El proceso ETL (*Extraer-Transformar-Almacenar*).\n",
      "2. Fuentes de datos.\n",
      "3. Bibliotecas Python.\n",
      "4. Recopilaci\u00f3n y carga de datos.\n",
      "5. Conclusiones.\n",
      "6. Referencias."
     ]
    },
    {
     "cell_type": "heading",
     "level": 2,
     "metadata": {},
     "source": [
      "1. El proceso ETL"
     ]
    },
    {
     "cell_type": "markdown",
     "metadata": {},
     "source": [
      "Todo proyecto de ingenier\u00eda y an\u00e1lisis de datos comienza por la recopilaci\u00f3n, preparaci\u00f3n y almacenamiento de datos en un repositorio (local, distribuido o en la nube) para su an\u00e1lisis posterior. En computaci\u00f3n, este proceso se suele denominar ETL, por sus siglas en ingl\u00e9s *Extract-Transform-Load* (Extraer-Transformar-Almacenar).\n",
      "\n",
      "As\u00ed pues, este proceso involucra tres fases:\n",
      "1. Extracci\u00f3n de datos.\n",
      "2. Preparaci\u00f3n y transformaci\u00f3n de datos.\n",
      "3. Carga de datos.\n",
      "\n",
      "En este laboratorio, abordaremos el primer paso, aprendiendo c\u00f3mo recopilar datos disponibles en la Web, representados en formato XML."
     ]
    },
    {
     "cell_type": "heading",
     "level": 2,
     "metadata": {},
     "source": [
      "2. Fuentes de datos: XML"
     ]
    },
    {
     "cell_type": "markdown",
     "metadata": {},
     "source": [
      "Existen multitud de fuentes de datos disponibles p\u00fablicamente en la Web. Los tres tipos m\u00e1s usuales de fuentes de datos que podemos encontrar son:\n",
      "1. **Recursos web**: tales como p\u00e1ginas web o enlaces a archivos con datos representados seg\u00fan un formato est\u00e1ndar (XML, JSON, CSV, YAML, etc.). En este caso, se recupera directamente la informaci\u00f3n del recurso para almacenarla localmente, efectuando a veces un procesado o interpretaci\u00f3n inicial de los datos descargados. Este proceso se denomina [web scrapping](http://en.wikipedia.org/wiki/Web_scraping). Los programas autom\u00e1ticos creados para descargar informaci\u00f3n de esta forma se denominan *ara\u00f1as web* ([web crawlers](http://en.wikipedia.org/wiki/Web_crawler)).\n",
      "2. **Repositorios de datos**: ofrecen un servicio de almacenamiento, clasificaci\u00f3n y publicaci\u00f3n de ficheros y conjuntos de datos. Esto facilita mucho la tarea del analista, a la hora de encontrar datos sobre un tema en particular. Algunos ejemplos son [DataHub](http://datahub.io/es/) (patrocinado por la [OKFN](http://okfn.org/services)) o [figshare](http://figshare.com/). Tambi\u00e9n existen diversos servicios de b\u00fasqueda de repositorios de datos (tales como [OAD](http://oad.simmons.edu/oadwiki/Data_repositories), [Databib](http://databib.org/index_subjects.php) o [re3data](http://service.re3data.org/search/).\n",
      "3. **APIs de datos**: ofrecen una interfaz estructurada para acceder a los datos mediante un servicio p\u00fablico o de pago en la Web. Suelen estar asociadas a plataformas de empresas como [Twitter](https://dev.twitter.com/rest/public), [Facebook](https://developers.facebook.com/docs/graph-api), [Google+](https://developers.google.com/+/api/?hl=es), [LinkedIn](https://developer.linkedin.com/docs/rest-api), etc. A veces, permiten efectuar consultas para recopilar solo una fracci\u00f3n de los datos que cumplan ciertas condiciones, o modificar el formato de representaci\u00f3n de los datos que devuelve en respuesta a nuestras peticiones.\n",
      "\n",
      "Existen muchos tipos de formatos de representaci\u00f3n de datos (ya hemos mencionado algunos en la lista anterior). En este laboratorio, nos vamos a concentrar en un formato muy popular, los documentos XML. Para el siguiente ejemplo, vamos a utilizar el fichero [feed.xml](http://www.diveintopython3.net/examples/feed.xml>), disponible en la web de *Dive into Python 3* [2]. Asumiremos que el archivo ya lo hemos descargado y almacenado localmente. \n",
      "\n",
      "Una forma sencilla de automatizar la descarga ser\u00eda utilizar el m\u00f3dulo `urllib`, o si el archivo es muy grande usar el m\u00f3dulo [`requests`](http://docs.python-requests.org/en/latest/) para tener un mejor control del proceso de descarga."
     ]
    },
    {
     "cell_type": "code",
     "collapsed": false,
     "input": [
      "import urllib\n",
      "urllib.urlretrieve (\"http://www.diveintopython3.net/examples/feed.xml\", \"feed_down.xml\")"
     ],
     "language": "python",
     "metadata": {},
     "outputs": [
      {
       "metadata": {},
       "output_type": "pyout",
       "prompt_number": 58,
       "text": [
        "('feed_down.xml', <httplib.HTTPMessage instance at 0x7f4c0df6b050>)"
       ]
      }
     ],
     "prompt_number": 58
    },
    {
     "cell_type": "heading",
     "level": 3,
     "metadata": {},
     "source": [
      "El formato XML"
     ]
    },
    {
     "cell_type": "markdown",
     "metadata": {},
     "source": [
      "A continuaci\u00f3n se muestra una fracci\u00f3n del contenido inicial del fichero de ejemplo XML que vamos a emplear."
     ]
    },
    {
     "cell_type": "markdown",
     "metadata": {},
     "source": [
      "```xml\n",
      "<?xml version='1.0' encoding='utf-8'?>\n",
      "<feed xmlns='http://www.w3.org/2005/Atom' xml:lang='en'>\n",
      "  <title>dive into mark</title>\n",
      "  <subtitle>currently between addictions</subtitle>\n",
      "  <id>tag:diveintomark.org,2001-07-29:/</id>\n",
      "  <updated>2009-03-27T21:56:07Z</updated>\n",
      "  <link rel='alternate' type='text/html' href='http://diveintomark.org/'/>\n",
      "  <entry>\n",
      "    <author>\n",
      "      <name>Mark</name>\n",
      "      <uri>http://diveintomark.org/</uri>\n",
      "    </author>\n",
      "    <title>Dive into history, 2009 edition</title>\n",
      "    <link rel='alternate' type='text/html'\n",
      "      href='http://diveintomark.org/archives/2009/03/27/dive-into-history-2009-edition'/>\n",
      "    <id>tag:diveintomark.org,2009-03-27:/archives/20090327172042</id>\n",
      "    <updated>2009-03-27T21:56:07Z</updated>\n",
      "    <published>2009-03-27T17:20:42Z</published>\n",
      "    <category scheme='http://diveintomark.org' term='diveintopython'/>\n",
      "    <category scheme='http://diveintomark.org' term='docbook'/>\n",
      "    <category scheme='http://diveintomark.org' term='html'/>\n",
      "    <summary type='html'>Putting an entire chapter on one page sounds\n",
      "      bloated, but consider this &amp;mdash; my longest chapter so far\n",
      "      would be 75 printed pages, and it loads in under 5 seconds&amp;hellip;\n",
      "      On dialup.</summary>\n",
      "  </entry>\n",
      "  <entry>\n",
      "    <author>\n",
      "      <name>Mark</name>\n",
      "      <uri>http://diveintomark.org/</uri>\n",
      "    </author>\n",
      "    <title>Accessibility is a harsh mistress</title>\n",
      "    <link rel='alternate' type='text/html'\n",
      "      href='http://diveintomark.org/archives/2009/03/21/accessibility-is-a-harsh-mistress'/>\n",
      "    <id>tag:diveintomark.org,2009-03-21:/archives/20090321200928</id>\n",
      "    <updated>2009-03-22T01:05:37Z</updated>\n",
      "    <published>2009-03-21T20:09:28Z</published>\n",
      "    <category scheme='http://diveintomark.org' term='accessibility'/>\n",
      "    <summary type='html'>The accessibility orthodoxy does not permit people to\n",
      "      question the value of features that are rarely useful and rarely used.</summary>\n",
      "  </entry>\n",
      "  <entry>\n",
      "    <author>\n",
      "      <name>Mark</name>\n",
      "    </author>\n",
      "    <title>A gentle introduction to video encoding, part 1: container formats</title>\n",
      "    <link rel='alternate' type='text/html'\n",
      "      href='http://diveintomark.org/archives/2008/12/18/give-part-1-container-formats'/>\n",
      "    <id>tag:diveintomark.org,2008-12-18:/archives/20081218155422</id>\n",
      "    <updated>2009-01-11T19:39:22Z</updated>\n",
      "    <published>2008-12-18T15:54:22Z</published>\n",
      "    <category scheme='http://diveintomark.org' term='asf'/>\n",
      "    <category scheme='http://diveintomark.org' term='avi'/>\n",
      "    <category scheme='http://diveintomark.org' term='encoding'/>\n",
      "    <category scheme='http://diveintomark.org' term='flv'/>\n",
      "    <category scheme='http://diveintomark.org' term='GIVE'/>\n",
      "    <category scheme='http://diveintomark.org' term='mp4'/>\n",
      "    <category scheme='http://diveintomark.org' term='ogg'/>\n",
      "    <category scheme='http://diveintomark.org' term='video'/>\n",
      "    <summary type='html'>These notes will eventually become part of a\n",
      "      tech talk on video encoding.</summary>\n",
      "  </entry>\n",
      "</feed>\n",
      "```"
     ]
    },
    {
     "cell_type": "markdown",
     "metadata": {},
     "source": [
      "Como podemos ver, XML es un lenguaje de marcado de documentos similar a HTML. Tenemos etiquetas de apertura y cierre, tales como `<entry></entry>`. Las etiquetas delimitan campos de datos, cuyo nombre corresponde con el identificador de la entiqueta (por ejemplo, en el caso anterior el campo es *entry*). A su vez, las etiquetas pueden contener atributos:\n",
      "```xml\n",
      "<link rel='alternate' type='text/html'\n",
      "      href='http://diveintomark.org/archives/2009/03/27/dive-into-history-2009-edition'/>\n",
      "```\n",
      "Finalmente, el contenido situado entre cada etiqueta de apertura y cierre es el *texto* de ese campo:\n",
      "```xml\n",
      "<author>\n",
      "    <name>Mark</name>\n",
      "</author>\n",
      "```\n",
      "A las herramientas o funciones que pueden leer e interpretar datos en un formato de representaci\u00f3n documental espec\u00edfico (como XML, HTML, etc.) se les de denomina **analyzadores sint\u00e1ticos** o [parsers](http://en.wikipedia.org/wiki/Parsing). Las bibliotecas que automatizan la lectura en interpretaci\u00f3n de datos en formatos espec\u00edficos siempre proporcionan funciones con este cometido.\n",
      "\n",
      "Existen adem\u00e1s, mecanismos para [validar](http://lxml.de/validation.html) el contenido de un documento en formato XML, tales como la especificaci\u00f3n de un documento [DTD](http://en.wikipedia.org/wiki/Document_Type_Definition) o de un [esquema XML](http://www.w3.org/XML/Schema). En determinados entornos, esto forzar\u00e1 a la funci\u00f3n que interpreta los datos compruebe si se sigue estrictamente el esquema de representaci\u00f3n, devolviendo errores en caso contrario."
     ]
    },
    {
     "cell_type": "heading",
     "level": 2,
     "metadata": {},
     "source": [
      "3. Bibliotecas Python"
     ]
    },
    {
     "cell_type": "markdown",
     "metadata": {},
     "source": [
      "Para este laboratorio, utilizaremos la biblioteca Python [`lxml`](http://lxml.de/tutorial.html), una de las m\u00e1s extendidas y que mejor rendimiento proporciona para lectura y escritura de datos en formato XML o XHTML.\n",
      "\n",
      "Esencialmente, existen dos aproximaciones para cargar y procesar datos en formato XML con esta biblioteca (al igual que ocurre con otras similares):\n",
      "* **Carga en memoria**: Cargar todo el arbol de elementos XML en memoria, para despu\u00e9s procesarlo. Tiene la ventaja de ser muy r\u00e1pido al trabajar con datos en memoria.\n",
      "En el caso de HTML, XML y SVG los analizadores generan una estructura denominada *\u00e1rbol de elementos*, que permite navegar por el contenido del documento. La [API DOM](https://developer.mozilla.org/en-US/docs/Web/API/Document_Object_Model) suele ser la referencia utilizada para acceder a dicha informaci\u00f3n de manera est\u00e1ndar.\n",
      "* **An\u00e1lisis dirigido por eventos**: Leer iterativamente un flujo de datos de la fuente XML y analizar el contenido din\u00e1micamente. Esta opci\u00f3n se denomina [*an\u00e1lisis dirigido por eventos*](http://lxml.de/tutorial.html#event-driven-parsing). Es \u00fatil cuando no podemos cargar el documento en memoria porque ocupar\u00eda demasiado espacio. La [API SAX](http://en.wikipedia.org/wiki/Simple_API_for_XML) suele ser la opci\u00f3n m\u00e1s popular para definir los m\u00e9todos que permiten acceder a la informaci\u00f3n interpretada."
     ]
    },
    {
     "cell_type": "heading",
     "level": 2,
     "metadata": {},
     "source": [
      "4. Recopilaci\u00f3n y carga de datos"
     ]
    },
    {
     "cell_type": "heading",
     "level": 3,
     "metadata": {},
     "source": [
      "4.1 Carga en memoria"
     ]
    },
    {
     "cell_type": "markdown",
     "metadata": {},
     "source": [
      "En primer lugar, debemos cargar la biblioteca la clase `lxml.etree` que permite crear \u00e1rboles de elementos XML en memoria."
     ]
    },
    {
     "cell_type": "code",
     "collapsed": false,
     "input": [
      "from lxml import etree"
     ],
     "language": "python",
     "metadata": {},
     "outputs": [],
     "prompt_number": 20
    },
    {
     "cell_type": "markdown",
     "metadata": {},
     "source": [
      "El siguiente paso ser\u00e1 leer nuestro fichero de datos, que ya hemos descargado."
     ]
    },
    {
     "cell_type": "code",
     "collapsed": false,
     "input": [
      "with open('feed.xml') as f:\n",
      "    tree = etree.parse(f)\n",
      "    print \"XML version is: %s\" % tree.docinfo.xml_version\n",
      "    print \"XML encoding used is: %s\" % tree.docinfo.encoding\n",
      "    # Obtener elemento root del documento\n",
      "    root_elem = tree.getroot()\n",
      "    # Get copy of dict of namespace prefixes in document\n",
      "    ns_map = tree.getroot().nsmap.copy()\n",
      "    print \"Diccionario de prefijos espacio de nombres:\"\n",
      "    print ns_map"
     ],
     "language": "python",
     "metadata": {},
     "outputs": [
      {
       "output_type": "stream",
       "stream": "stdout",
       "text": [
        "XML version is: 1.0\n",
        "XML encoding used is: utf-8\n",
        "Diccionario de prefijos espacio de nombres:\n",
        "{None: 'http://www.w3.org/2005/Atom'}\n"
       ]
      }
     ],
     "prompt_number": 51
    },
    {
     "cell_type": "code",
     "collapsed": false,
     "input": [
      "# Algunas operaciones b\u00e1sicas\n",
      "# Iterar sobre todos los hijos de un elemento en el \u00e1rbol\n",
      "for child in root_elem.iterchildren():\n",
      "    print child.tag  # Como vemos, los espacios de nombres tambi\u00e9n se analizan"
     ],
     "language": "python",
     "metadata": {},
     "outputs": [
      {
       "output_type": "stream",
       "stream": "stdout",
       "text": [
        "{http://www.w3.org/2005/Atom}title\n",
        "{http://www.w3.org/2005/Atom}subtitle\n",
        "{http://www.w3.org/2005/Atom}id\n",
        "{http://www.w3.org/2005/Atom}updated\n",
        "{http://www.w3.org/2005/Atom}link\n",
        "{http://www.w3.org/2005/Atom}entry\n",
        "{http://www.w3.org/2005/Atom}entry\n",
        "{http://www.w3.org/2005/Atom}entry\n"
       ]
      }
     ],
     "prompt_number": 38
    },
    {
     "cell_type": "code",
     "collapsed": false,
     "input": [
      "# B\u00fasqueda directa de elementos\n",
      "for child in root_elem.iterfind(\".//{%s}author\" % ns_map[None]):\n",
      "    for gchildren in child.getchildren():\n",
      "        print \"%s: %s\" % (gchildren.tag, gchildren.text)"
     ],
     "language": "python",
     "metadata": {},
     "outputs": [
      {
       "output_type": "stream",
       "stream": "stdout",
       "text": [
        "{http://www.w3.org/2005/Atom}name: Mark\n",
        "{http://www.w3.org/2005/Atom}uri: http://diveintomark.org/\n",
        "{http://www.w3.org/2005/Atom}name: Mark\n",
        "{http://www.w3.org/2005/Atom}uri: http://diveintomark.org/\n",
        "{http://www.w3.org/2005/Atom}name: Mark\n"
       ]
      }
     ],
     "prompt_number": 49
    },
    {
     "cell_type": "code",
     "collapsed": false,
     "input": [
      "# Encontrar todos los elementos con cierto atributo\n",
      "for elem in tree.findall('//{%s}*[@href]' % ns_map[None]):\n",
      "    print \"%s href: %s\" % (elem.tag, elem.get('href'))"
     ],
     "language": "python",
     "metadata": {},
     "outputs": [
      {
       "output_type": "stream",
       "stream": "stdout",
       "text": [
        "{http://www.w3.org/2005/Atom}link href: http://diveintomark.org/\n",
        "{http://www.w3.org/2005/Atom}link href: http://diveintomark.org/archives/2009/03/27/dive-into-history-2009-edition\n",
        "{http://www.w3.org/2005/Atom}link href: http://diveintomark.org/archives/2009/03/21/accessibility-is-a-harsh-mistress\n",
        "{http://www.w3.org/2005/Atom}link href: http://diveintomark.org/archives/2008/12/18/give-part-1-container-formats\n"
       ]
      }
     ],
     "prompt_number": 53
    },
    {
     "cell_type": "heading",
     "level": 3,
     "metadata": {},
     "source": [
      "4.2 An\u00e1lisis dirigido por eventos"
     ]
    },
    {
     "cell_type": "markdown",
     "metadata": {},
     "source": [
      "Si la opci\u00f3n de cargar el \u00e1rbol del documento en memoria no es viable, entonces podemos utilizar el an\u00e1lisis de c\u00f3digo dirigido por eventos. En este caso, el iterador producir\u00e1 un nuevo evento cada vez que encuentre una etiqueta de apertura o cierre del tipo especificado. Veamos un ejemplo."
     ]
    },
    {
     "cell_type": "code",
     "collapsed": false,
     "input": [
      "with open('feed.xml') as f:\n",
      "    # Si no pasamos el argumento 'events', por defecto solo se generan eventos al cierre\n",
      "    # de cada etiqueta (eventos \"end\")\n",
      "    for event, element in etree.iterparse(f, events=(\"start\", \"end\")):\n",
      "        print(\"%5s, %4s, %s\" % (event, element.tag, element.text))  # Podemos acceder a la API de cada elemento"
     ],
     "language": "python",
     "metadata": {},
     "outputs": [
      {
       "output_type": "stream",
       "stream": "stdout",
       "text": [
        "start, {http://www.w3.org/2005/Atom}feed, \n",
        "  \n",
        "start, {http://www.w3.org/2005/Atom}title, dive into mark\n",
        "  end, {http://www.w3.org/2005/Atom}title, dive into mark\n",
        "start, {http://www.w3.org/2005/Atom}subtitle, currently between addictions\n",
        "  end, {http://www.w3.org/2005/Atom}subtitle, currently between addictions\n",
        "start, {http://www.w3.org/2005/Atom}id, tag:diveintomark.org,2001-07-29:/\n",
        "  end, {http://www.w3.org/2005/Atom}id, tag:diveintomark.org,2001-07-29:/\n",
        "start, {http://www.w3.org/2005/Atom}updated, 2009-03-27T21:56:07Z\n",
        "  end, {http://www.w3.org/2005/Atom}updated, 2009-03-27T21:56:07Z\n",
        "start, {http://www.w3.org/2005/Atom}link, None\n",
        "  end, {http://www.w3.org/2005/Atom}link, None\n",
        "start, {http://www.w3.org/2005/Atom}entry, \n",
        "    \n",
        "start, {http://www.w3.org/2005/Atom}author, \n",
        "      \n",
        "start, {http://www.w3.org/2005/Atom}name, Mark\n",
        "  end, {http://www.w3.org/2005/Atom}name, Mark\n",
        "start, {http://www.w3.org/2005/Atom}uri, http://diveintomark.org/\n",
        "  end, {http://www.w3.org/2005/Atom}uri, http://diveintomark.org/\n",
        "  end, {http://www.w3.org/2005/Atom}author, \n",
        "      \n",
        "start, {http://www.w3.org/2005/Atom}title, Dive into history, 2009 edition\n",
        "  end, {http://www.w3.org/2005/Atom}title, Dive into history, 2009 edition\n",
        "start, {http://www.w3.org/2005/Atom}link, None\n",
        "  end, {http://www.w3.org/2005/Atom}link, None\n",
        "start, {http://www.w3.org/2005/Atom}id, tag:diveintomark.org,2009-03-27:/archives/20090327172042\n",
        "  end, {http://www.w3.org/2005/Atom}id, tag:diveintomark.org,2009-03-27:/archives/20090327172042\n",
        "start, {http://www.w3.org/2005/Atom}updated, 2009-03-27T21:56:07Z\n",
        "  end, {http://www.w3.org/2005/Atom}updated, 2009-03-27T21:56:07Z\n",
        "start, {http://www.w3.org/2005/Atom}published, 2009-03-27T17:20:42Z\n",
        "  end, {http://www.w3.org/2005/Atom}published, 2009-03-27T17:20:42Z\n",
        "start, {http://www.w3.org/2005/Atom}category, None\n",
        "  end, {http://www.w3.org/2005/Atom}category, None\n",
        "start, {http://www.w3.org/2005/Atom}category, None\n",
        "  end, {http://www.w3.org/2005/Atom}category, None\n",
        "start, {http://www.w3.org/2005/Atom}category, None\n",
        "  end, {http://www.w3.org/2005/Atom}category, None\n",
        "start, {http://www.w3.org/2005/Atom}summary, Putting an entire chapter on one page sounds\n",
        "      bloated, but consider this &mdash; my longest chapter so far\n",
        "      would be 75 printed pages, and it loads in under 5 seconds&hellip;\n",
        "      On dialup.\n",
        "  end, {http://www.w3.org/2005/Atom}summary, Putting an entire chapter on one page sounds\n",
        "      bloated, but consider this &mdash; my longest chapter so far\n",
        "      would be 75 printed pages, and it loads in under 5 seconds&hellip;\n",
        "      On dialup.\n",
        "  end, {http://www.w3.org/2005/Atom}entry, \n",
        "    \n",
        "start, {http://www.w3.org/2005/Atom}entry, \n",
        "    \n",
        "start, {http://www.w3.org/2005/Atom}author, \n",
        "      \n",
        "start, {http://www.w3.org/2005/Atom}name, Mark\n",
        "  end, {http://www.w3.org/2005/Atom}name, Mark\n",
        "start, {http://www.w3.org/2005/Atom}uri, http://diveintomark.org/\n",
        "  end, {http://www.w3.org/2005/Atom}uri, http://diveintomark.org/\n",
        "  end, {http://www.w3.org/2005/Atom}author, \n",
        "      \n",
        "start, {http://www.w3.org/2005/Atom}title, Accessibility is a harsh mistress\n",
        "  end, {http://www.w3.org/2005/Atom}title, Accessibility is a harsh mistress\n",
        "start, {http://www.w3.org/2005/Atom}link, None\n",
        "  end, {http://www.w3.org/2005/Atom}link, None\n",
        "start, {http://www.w3.org/2005/Atom}id, tag:diveintomark.org,2009-03-21:/archives/20090321200928\n",
        "  end, {http://www.w3.org/2005/Atom}id, tag:diveintomark.org,2009-03-21:/archives/20090321200928\n",
        "start, {http://www.w3.org/2005/Atom}updated, 2009-03-22T01:05:37Z\n",
        "  end, {http://www.w3.org/2005/Atom}updated, 2009-03-22T01:05:37Z\n",
        "start, {http://www.w3.org/2005/Atom}published, 2009-03-21T20:09:28Z\n",
        "  end, {http://www.w3.org/2005/Atom}published, 2009-03-21T20:09:28Z\n",
        "start, {http://www.w3.org/2005/Atom}category, None\n",
        "  end, {http://www.w3.org/2005/Atom}category, None\n",
        "start, {http://www.w3.org/2005/Atom}summary, The accessibility orthodoxy does not permit people to\n",
        "      question the value of features that are rarely useful and rarely used.\n",
        "  end, {http://www.w3.org/2005/Atom}summary, The accessibility orthodoxy does not permit people to\n",
        "      question the value of features that are rarely useful and rarely used.\n",
        "  end, {http://www.w3.org/2005/Atom}entry, \n",
        "    \n",
        "start, {http://www.w3.org/2005/Atom}entry, \n",
        "    \n",
        "start, {http://www.w3.org/2005/Atom}author, \n",
        "      \n",
        "start, {http://www.w3.org/2005/Atom}name, Mark\n",
        "  end, {http://www.w3.org/2005/Atom}name, Mark\n",
        "  end, {http://www.w3.org/2005/Atom}author, \n",
        "      \n",
        "start, {http://www.w3.org/2005/Atom}title, A gentle introduction to video encoding, part 1: container formats\n",
        "  end, {http://www.w3.org/2005/Atom}title, A gentle introduction to video encoding, part 1: container formats\n",
        "start, {http://www.w3.org/2005/Atom}link, None\n",
        "  end, {http://www.w3.org/2005/Atom}link, None\n",
        "start, {http://www.w3.org/2005/Atom}id, tag:diveintomark.org,2008-12-18:/archives/20081218155422\n",
        "  end, {http://www.w3.org/2005/Atom}id, tag:diveintomark.org,2008-12-18:/archives/20081218155422\n",
        "start, {http://www.w3.org/2005/Atom}updated, 2009-01-11T19:39:22Z\n",
        "  end, {http://www.w3.org/2005/Atom}updated, 2009-01-11T19:39:22Z\n",
        "start, {http://www.w3.org/2005/Atom}published, 2008-12-18T15:54:22Z\n",
        "  end, {http://www.w3.org/2005/Atom}published, 2008-12-18T15:54:22Z\n",
        "start, {http://www.w3.org/2005/Atom}category, None\n",
        "  end, {http://www.w3.org/2005/Atom}category, None\n",
        "start, {http://www.w3.org/2005/Atom}category, None\n",
        "  end, {http://www.w3.org/2005/Atom}category, None\n",
        "start, {http://www.w3.org/2005/Atom}category, None\n",
        "  end, {http://www.w3.org/2005/Atom}category, None\n",
        "start, {http://www.w3.org/2005/Atom}category, None\n",
        "  end, {http://www.w3.org/2005/Atom}category, None\n",
        "start, {http://www.w3.org/2005/Atom}category, None\n",
        "  end, {http://www.w3.org/2005/Atom}category, None\n",
        "start, {http://www.w3.org/2005/Atom}category, None\n",
        "  end, {http://www.w3.org/2005/Atom}category, None\n",
        "start, {http://www.w3.org/2005/Atom}category, None\n",
        "  end, {http://www.w3.org/2005/Atom}category, None\n",
        "start, {http://www.w3.org/2005/Atom}category, None\n",
        "  end, {http://www.w3.org/2005/Atom}category, None\n",
        "start, {http://www.w3.org/2005/Atom}summary, These notes will eventually become part of a\n",
        "      tech talk on video encoding.\n",
        "  end, {http://www.w3.org/2005/Atom}summary, These notes will eventually become part of a\n",
        "      tech talk on video encoding.\n",
        "  end, {http://www.w3.org/2005/Atom}entry, \n",
        "    \n",
        "  end, {http://www.w3.org/2005/Atom}feed, \n",
        "  \n"
       ]
      }
     ],
     "prompt_number": 57
    },
    {
     "cell_type": "markdown",
     "metadata": {},
     "source": [
      "Es importante recalcar que en el momento de recibir un evento de tipo *start*, puede que el texto, y los nodos hijos del elemento a\u00fan no hayan sido analizados. Solo el evento de tipo *end* garantiza que el elemento ha sido analizado por completo.\n",
      "\n",
      "Sin embargo, este procedimiento va cargando datos de todos los elementos del \u00e1rbol en memoria, para mantenerlos accesibles. Por lo tanto, si queremos realmente ahorrar memoria hay que ir borrando los elementos que ya no necesitemos, llamando al m\u00e9todo `clear()` sobre dicho elemento. Esto borrar\u00e1 ese elemento y todos el sub\u00e1rbol que cuelga por debajo del mismo.\n",
      "\n",
      "Ejemplo [5]:\n",
      "```python\n",
      "elem.clear()\n",
      "while elem.getprevious() is not None:\n",
      "    del elem.getparent()[0]\n",
      "```"
     ]
    },
    {
     "cell_type": "heading",
     "level": 2,
     "metadata": {},
     "source": [
      "5. Conclusiones"
     ]
    },
    {
     "cell_type": "markdown",
     "metadata": {},
     "source": [
      "En este laboratorio hemos presentado los fundamentos para la descarga y extracci\u00f3n de datos de documentos XML en la Web. En particular, se han cubierto los siguientes aspectos:\n",
      "\n",
      "1. Descargar un fichero desde una URL.\n",
      "2. Configurar un parser para cargar el \u00e1rbol del documento en memoria.\n",
      "3. C\u00f3mo recorrer el \u00e1rbol y efectuar peraciones b\u00e1sicas de busqueda.\n",
      "4. An\u00e1lizar un documento XML sin cargarlo por completo en memoria, mediante an\u00e1lisis dirigido por eventos.\n",
      "\n",
      "En el pr\u00f3ximo laboratorio, abordaremos la carga de datos representados con otros formatos populares: CSV y JSON."
     ]
    },
    {
     "cell_type": "heading",
     "level": 2,
     "metadata": {},
     "source": [
      "6. Referencias"
     ]
    },
    {
     "cell_type": "markdown",
     "metadata": {},
     "source": [
      "1. *Python XML processing with lxml*. http://infohost.nmt.edu/tcc/help/pubs/pylxml/web/index.html#intro (\u00faltimo acceso Mar. 2015).\n",
      "2. Mark Pilgrim. *Dive into Python 3*. Chap. 12 XML. http://www.diveintopython3.net/xml.html (\u00faltimo acceso Mar. 2015).\n",
      "3. Russell, Matthew A. *Mining the Social Web: Data Mining Facebook, Twitter, LinkedIn, Google+, GitHub, and More*. 2nd Ed. O'Reilly Media, Inc., 2013.\n",
      "4. McKinney, Wes. *Python for data analysis: Data wrangling with Pandas, NumPy, and IPython*. O'Reilly Media, Inc., 2012.\n",
      "5. Liza Daly. *High-performance XML parsing in Python with lxml*. IBM developerWorks. http://www.ibm.com/developerworks/library/x-hiperfparse/ (\u00faltimo acceso Mar. 2015)."
     ]
    },
    {
     "cell_type": "code",
     "collapsed": false,
     "input": [],
     "language": "python",
     "metadata": {},
     "outputs": []
    }
   ],
   "metadata": {}
  }
 ]
}