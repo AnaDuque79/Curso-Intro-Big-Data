{
 "metadata": {
  "name": "",
  "signature": "sha256:9be8bec574ece362dda2495da5269c2528599507e07999f91fe9593e41e22ed9"
 },
 "nbformat": 3,
 "nbformat_minor": 0,
 "worksheets": [
  {
   "cells": [
    {
     "cell_type": "markdown",
     "metadata": {},
     "source": [
      "# Ejemplo de gesti\u00f3n de datos con Redis\n",
      "\n",
      "A continuaci\u00f3n, ofrecemos un peque\u00f1o ejemplo de gesti\u00f3n de dato con Redis a trav\u00e9s de Python."
     ]
    },
    {
     "cell_type": "markdown",
     "metadata": {},
     "source": [
      "## Inicializaci\u00f3n"
     ]
    },
    {
     "cell_type": "code",
     "collapsed": false,
     "input": [
      "import redis\n",
      "\n",
      "redis_cache = redis.Redis(host='localhost')"
     ],
     "language": "python",
     "metadata": {},
     "outputs": [],
     "prompt_number": 1
    },
    {
     "cell_type": "markdown",
     "metadata": {},
     "source": [
      "## Inserci\u00f3n de datos\n",
      "\n",
      "Ejemplo de inserci\u00f3n de datos en *tabla hash*."
     ]
    },
    {
     "cell_type": "code",
     "collapsed": false,
     "input": [
      "redis_cache.hset(\"app:set0\", 'key0', 0)\n",
      "redis_cache.hset(\"app:set0\", 'key1', 1)\n",
      "redis_cache.hset(\"app:set0\", 'key2', 10)"
     ],
     "language": "python",
     "metadata": {},
     "outputs": [
      {
       "metadata": {},
       "output_type": "pyout",
       "prompt_number": 2,
       "text": [
        "1L"
       ]
      }
     ],
     "prompt_number": 2
    },
    {
     "cell_type": "code",
     "collapsed": false,
     "input": [
      "redis_cache.hget(\"app:set0\", 'key2')"
     ],
     "language": "python",
     "metadata": {},
     "outputs": [
      {
       "metadata": {},
       "output_type": "pyout",
       "prompt_number": 3,
       "text": [
        "'10'"
       ]
      }
     ],
     "prompt_number": 3
    },
    {
     "cell_type": "markdown",
     "metadata": {},
     "source": [
      "## Otros tipos de estructuras de datos\n",
      "\n",
      "**Entradas clave-valor** (individuales)"
     ]
    },
    {
     "cell_type": "code",
     "collapsed": false,
     "input": [
      "redis_cache.set('app:key0', 2.1719)\n",
      "redis_cache.set('app:key1', 'un_valor')\n",
      "redis_cache.get('app:key1')"
     ],
     "language": "python",
     "metadata": {},
     "outputs": [
      {
       "metadata": {},
       "output_type": "pyout",
       "prompt_number": 14,
       "text": [
        "'un_valor'"
       ]
      }
     ],
     "prompt_number": 14
    },
    {
     "cell_type": "markdown",
     "metadata": {},
     "source": [
      "**Contadores con entradas clave-valor**"
     ]
    },
    {
     "cell_type": "code",
     "collapsed": false,
     "input": [
      "redis_cache.set('app:counter', 0)\n",
      "redis_cache.incr('app:counter')\n",
      "redis_cache.incrby('app:counter', 5)\n",
      "redis_cache.decr('app:counter')\n",
      "redis_cache.get('app:counter')"
     ],
     "language": "python",
     "metadata": {},
     "outputs": [
      {
       "metadata": {},
       "output_type": "pyout",
       "prompt_number": 5,
       "text": [
        "'5'"
       ]
      }
     ],
     "prompt_number": 5
    },
    {
     "cell_type": "markdown",
     "metadata": {},
     "source": [
      "**Listas** (id\u00e9nticas a las listas de Python)"
     ]
    },
    {
     "cell_type": "code",
     "collapsed": false,
     "input": [
      "redis_cache.rpush('app:lista', 0)\n",
      "redis_cache.rpush('app:lista', 'otro valor')\n",
      "redis_cache.rpush('app:lista', 3.1415)"
     ],
     "language": "python",
     "metadata": {},
     "outputs": [
      {
       "metadata": {},
       "output_type": "pyout",
       "prompt_number": 6,
       "text": [
        "3L"
       ]
      }
     ],
     "prompt_number": 6
    },
    {
     "cell_type": "code",
     "collapsed": false,
     "input": [
      "print \"Tama\u00f1o de la lista es: %s\" % redis_cache.llen('app:lista')"
     ],
     "language": "python",
     "metadata": {},
     "outputs": [
      {
       "output_type": "stream",
       "stream": "stdout",
       "text": [
        "Tama\u00f1o de la lista es: 3\n"
       ]
      }
     ],
     "prompt_number": 8
    },
    {
     "cell_type": "code",
     "collapsed": false,
     "input": [
      "print \"Primer elemento de la lista es: %s\" % redis_cache.lindex('app:lista', 0)"
     ],
     "language": "python",
     "metadata": {},
     "outputs": [
      {
       "output_type": "stream",
       "stream": "stdout",
       "text": [
        "Primer elemento de la lista es: 0\n"
       ]
      }
     ],
     "prompt_number": 9
    },
    {
     "cell_type": "code",
     "collapsed": false,
     "input": [
      "# Tipo de datos tal y como se devuelve en Python\n",
      "type(redis_cache.lindex('app:lista', 2))"
     ],
     "language": "python",
     "metadata": {},
     "outputs": [
      {
       "metadata": {},
       "output_type": "pyout",
       "prompt_number": 11,
       "text": [
        "str"
       ]
      }
     ],
     "prompt_number": 11
    },
    {
     "cell_type": "code",
     "collapsed": false,
     "input": [
      "# Tipo de datos almacenado en Redis\n",
      "print redis_cache.type('app:lista')\n",
      "print redis_cache.type('app:key0')"
     ],
     "language": "python",
     "metadata": {},
     "outputs": [
      {
       "output_type": "stream",
       "stream": "stdout",
       "text": [
        "list\n",
        "string\n"
       ]
      }
     ],
     "prompt_number": 15
    },
    {
     "cell_type": "markdown",
     "metadata": {},
     "source": [
      "**Sets** (iguales que los sets en Python)"
     ]
    },
    {
     "cell_type": "code",
     "collapsed": false,
     "input": [
      "redis_cache.sadd(\"app:set1\", \"el1\")\n",
      "redis_cache.sadd(\"app:set1\", \"el2\")\n",
      "redis_cache.sadd(\"app:set1\", \"el2\")\n",
      "print \"Miembros del conjunto app:set1 : %s\" % redis_cache.smembers(\"app:set1\")"
     ],
     "language": "python",
     "metadata": {},
     "outputs": [
      {
       "output_type": "stream",
       "stream": "stdout",
       "text": [
        "Miembros del conjunto app:set1 : set(['el2', 'el1'])\n"
       ]
      }
     ],
     "prompt_number": 16
    },
    {
     "cell_type": "code",
     "collapsed": false,
     "input": [],
     "language": "python",
     "metadata": {},
     "outputs": []
    }
   ],
   "metadata": {}
  }
 ]
}