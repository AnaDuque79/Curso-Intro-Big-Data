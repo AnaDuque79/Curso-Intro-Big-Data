{
 "metadata": {
  "name": "",
  "signature": "sha256:cb6878a3b0c76b18fcddf4c93d6cc0cea60abb9b07c3b571b65d69e4be1ffab5"
 },
 "nbformat": 3,
 "nbformat_minor": 0,
 "worksheets": [
  {
   "cells": [
    {
     "cell_type": "heading",
     "level": 1,
     "metadata": {},
     "source": [
      "Introducci\u00f3n"
     ]
    },
    {
     "cell_type": "markdown",
     "metadata": {},
     "source": [
      "En este laboratorio veremos un ejemplo de como podemos trabajar con dos de los formatos de codificaci\u00f3n de datos m\u00e1s extendidos. Por un lado, el formato [CSV](http://en.wikipedia.org/wiki/Comma-separated_values)/[TSV](http://en.wikipedia.org/wiki/Tab-separated_values) ofrece un soporte casi universal para trasvase r\u00e1pido de datos entre diferentes sistemas (incluso desde o hacia programas de hoja de c\u00e1lculo). Por otro lado, [JSON](http://en.wikipedia.org/wiki/JSON) es un formato muy popular en aplicaciones y APIs web.\n",
      "\n",
      "En ambos casos, se encuentran soportados en Python mediante los m\u00f3dulos de la biblioteca standard [csv](http://pymotw.com/2/csv/) y [json](https://docs.python.org/2/library/json.html). En el caso de JSON, veremos tambi\u00e9n bibliotecas alternativas para mejorar el rendimiento de carga y escritura."
     ]
    },
    {
     "cell_type": "heading",
     "level": 1,
     "metadata": {},
     "source": [
      "El formato CSV"
     ]
    },
    {
     "cell_type": "markdown",
     "metadata": {},
     "source": [
      "El formato CSV es uno de los m\u00e1s sencillos para trasvasar datos entre diferentes programas, repositorios o bases de datos. Algunas de sus ventajas son:\n",
      "\n",
      "* Es un formato relativamente sencillo de utilizar, aunque no existe un est\u00e1ndar bien definido. Por ello pueden existir peque\u00f1as diferencias entre formatos de distintos programas (dialectos).\n",
      "* No contiene metadatos, por lo que ocupa menos espacio.\n",
      "* Si no surgen problemas de formato, suele ser muy r\u00e1pido para carga o volcado de datos.\n",
      "\n",
      "Los problemas derivados de la ausencia de un est\u00e1ndar com\u00fan bien definido pueden entorpecer la recuperaci\u00f3n de datos. Por ejemplo, no existe un consenso sobre la [representaci\u00f3n de n\u00fameros con cifras decimales](http://en.wikipedia.org/wiki/Comma-separated_values#Lack_of_a_standard).\n",
      "\n",
      "Sin embargo, el principal inconveniente del formato CSV es que necesitamos conocer de antemano el n\u00famero de campos que contiene cada fila, as\u00ed como el tipo de datos de cada campo para su correcta recuperaci\u00f3n. Por ello, es muy importante contar con una descripci\u00f3n por separado del contenido de los archivos, o al menos con algunas l\u00edneas de ejemplo."
     ]
    },
    {
     "cell_type": "heading",
     "level": 1,
     "metadata": {},
     "source": [
      "Trabajando con CSV"
     ]
    },
    {
     "cell_type": "markdown",
     "metadata": {},
     "source": [
      "La biblioteca est\u00e1ndar de Python proporciona el m\u00f3dulo [csv](http://docs.python.org/library/csv.html) para facilitar la lectura y escritura de datos en este formato. Uno de los mejores tutoriales para aprender m\u00e1s sobre el tratamiento de datos CSV es [csv \u2013 Comma-separated value files](http://pymotw.com/2/csv/), que forma parte de la serie [PyMOTW](http://pymotw.com/2/).\n",
      "\n",
      "Dicho tutorial incluye:\n",
      "\n",
      "* Una introducci\u00f3n a la lectura y escritura de archivos en formato CSV.\n",
      "* Una descripci\u00f3n de los detalles de formato, incluyendo los diferentes dialectos soportados y la definici\u00f3n de nuevos dialectos.\n",
      "* Ejemplos de uso de la clase `Sniffer()` (incluida en el m\u00f3dulo `csv`) para detecci\u00f3n autom\u00e1tica del formato.\n",
      "\n",
      "Para continuar nuestra pr\u00e1ctica, vamos a utilizar el archivo `sample_new_users.csv` (disponible en el repositorio del curso). Este archivo contiene una muestra del log de creaci\u00f3n de nuevos usuarios de la Wikipedia en [Escoc\u00e9s (lengua germ\u00e1nica)](http://es.wikipedia.org/wiki/Escoc%C3%A9s_(lengua_germ%C3%A1nica).\n",
      "\n",
      "Los campos son:\n",
      "\n",
      "* Identificador un\u00edvoco (entero).\n",
      "* Identificador de usuario (entero).\n",
      "* Nombre de usuario (cadena de caracteres Unicode, UTF-8, libre).\n",
      "* Fecha de registro (formato [ISO 8601](http://es.wikipedia.org/wiki/ISO_8601)).\n",
      "* Herramienta de registro (cadena de caracteres Unicode, UTF-8, variable cate\u01f5orica).\n",
      "\n",
      "### Ejercicio 1\n",
      "\n",
      "Escriba un programa en Python que cargue en memoria todos los datos del fichero `sample_new_users.csv` y muestre el primer y el \u00faltimo registro contenido en el fichero, seg\u00fan su orden cronol\u00f3gico."
     ]
    },
    {
     "cell_type": "code",
     "collapsed": false,
     "input": [
      "## ESPACIO PARA LA RESOLUCION DEL EJERCICIO"
     ],
     "language": "python",
     "metadata": {},
     "outputs": [],
     "prompt_number": 1
    },
    {
     "cell_type": "markdown",
     "metadata": {},
     "source": [
      "### Ejercicio 2\n",
      "\n",
      "Cree un programa en Python que escriba en un fichero de texto plano (TSV) los datos le\u00eddos del fichero `sample_new_users.csv` pero solo incluya, por este orden, el identificador de usuario, la herramienta de registro y la fecha de registro."
     ]
    },
    {
     "cell_type": "code",
     "collapsed": false,
     "input": [
      "## ESPACIO PARA LA RESOLUCION DEL EJERCICIO"
     ],
     "language": "python",
     "metadata": {},
     "outputs": [],
     "prompt_number": 2
    },
    {
     "cell_type": "heading",
     "level": 1,
     "metadata": {},
     "source": [
      "El formato JSON"
     ]
    },
    {
     "cell_type": "markdown",
     "metadata": {},
     "source": [
      "Como ya hemos comentado, [JSON](http://json.org/) se creo como un est\u00e1ndar para intercambio de datos que fuese ligero, f\u00e1cil de implementar y flexible. Su sintaxis es muy parecida a la de los diccionarios en Python, pues est\u00e1 basado en **objetos**, representados como parejas `clave: valor` que van encerradas entre llaves. El documento JSON puede tener una estructura jer\u00e1rquica, con objetos anidados en varios niveles.\n",
      "\n",
      "Las **claves** son siempre de tipo *string*. Los **valores** puede ser individuales (strings, n\u00fameros, objetos serializados, etc.) o bien arrays de valores. Estos \u00faltimos son similares a las listas de Python, bues se encierran entre corchetes y permiten crear listas ordenadas de valores. Normalmente, los datos de tipo *string* se interpretan como cadenas de caracteres Unicode."
     ]
    },
    {
     "cell_type": "heading",
     "level": 1,
     "metadata": {},
     "source": [
      "Trabajando con JSON"
     ]
    },
    {
     "cell_type": "markdown",
     "metadata": {},
     "source": [
      "El formato JSON se ha convertido en un est\u00e1ndar muy frecuente para el trasvase de datos, especialmente en entornos web. Inicialmente asociado al lenguaje [JavaScript](http://en.wikipedia.org/wiki/JavaScript), su relativa simplicidad y su capacidad para integrar f\u00e1cilmente estructuras de datos anidadas con distintos formatos le convierten en un formato muy vers\u00e1til en todo tipo de situaciones."
     ]
    },
    {
     "cell_type": "markdown",
     "metadata": {},
     "source": [
      "## Consultar datos de APIs\n",
      "\n",
      "Un caso t\u00edpico en el que se suele trabajar con datos en formato JSON es cuando consumimos informaci\u00f3n de una API, por ejemplo a trav\u00e9s de una interfaz [REST](http://en.wikipedia.org/wiki/Representational_state_transfer). El siguiente ejemplo muestra una consulta para recuperar datos de la API de Wikipedia en espa\u00f1ol. La consulta obtiene la revisi\u00f3n m\u00e1s reciente del art\u00edculo enciclop\u00e9dico *Tetramorium caespitum*, incluyendo su contenido y metadatos adicionales como el autor del \u00faltimo cambio, la fecha en la que se edit\u00f3 esa revisi\u00f3n, y el comentario con el resumen de cambios que incluy\u00f3 el autor:\n",
      "\n",
      "http://es.wikipedia.org/w/api.php?action=query&prop=revisions&titles=Tetramorium_caespitum&rvprop=timestamp|user|comment|content&continue=&format=json\n",
      "\n",
      "A continuaci\u00f3n, presentamos un programa muy simple que ilustra c\u00f3mo podemos consumir dicha informaci\u00f3n en formato JSON en Python, utilizando para ello del m\u00f3dulo [`ujson`](https://pypi.python.org/pypi/ujson). Tambi\u00e9n hacemos uso del m\u00f3dulo `json`, incluido en la biblioteca est\u00e1ndar de Python, para imprimir los datos de forma m\u00e1s legible para un humano (*pretty print*):"
     ]
    },
    {
     "cell_type": "code",
     "collapsed": false,
     "input": [
      "import ujson\n",
      "import json\n",
      "import urllib\n",
      "\n",
      "query = \"\".join([\"http://es.wikipedia.org/w/api.php?action=query&prop=revisions\",\n",
      "                 \"&titles=Tetramorium_caespitum&rvprop=timestamp|user|comment|content\",\n",
      "                 \"&continue=&format=json\"])\n",
      "socket = urllib.urlopen(query)\n",
      "data = socket.read()\n",
      "# print data\n",
      "json_data = ujson.loads(data)\n",
      "print json.dumps(json_data, sort_keys=True, indent=4,\n",
      "                 separators=(',', ': '))"
     ],
     "language": "python",
     "metadata": {},
     "outputs": [
      {
       "output_type": "stream",
       "stream": "stdout",
       "text": [
        "{\n",
        "    \"batchcomplete\": \"\",\n",
        "    \"query\": {\n",
        "        \"normalized\": [\n",
        "            {\n",
        "                \"from\": \"Tetramorium_caespitum\",\n",
        "                \"to\": \"Tetramorium caespitum\"\n",
        "            }\n",
        "        ],\n",
        "        \"pages\": {\n",
        "            \"4802751\": {\n",
        "                \"ns\": 0,\n",
        "                \"pageid\": 4802751,\n",
        "                \"revisions\": [\n",
        "                    {\n",
        "                        \"*\": \"{{Ficha de tax\\u00f3n\\n| name = Hormiga de pavimento\\n| image = Tetramorium caespitum casent0005827 profile 1.jpg\\n| image_width = 200px\\n| image_caption = \\n| regnum = [[Animalia]]\\n| phylum = [[Arthropoda]]\\n| classis = [[Insecta]]\\n| ordo = [[Hymenoptera]]\\n| familia = [[Ant|Formicidae]]\\n| subfamilia = [[Myrmicinae]]\\n| genus = ''[[Tetramorium]]''\\n| species = '''''T. caespitum'''''\\n| binomial = ''Tetramorium caespitum''\\n| binomial_authority = ([[Carolus Linnaeus|Linnaeus]], [[Systema Naturae|1758]])\\n}}\\n\\nLa '''hormiga de pavimento''', '''''Tetramorium caespitum''''', es una plaga casera com\\u00fan, cuyos individuos suelen construir sus colonias bajo el pavimento. Se distingue por una espina en la espalda, dos n\\u00f3dulos en su pec\\u00edolo y granuras en su cabeza y t\\u00f3rax.<ref>{{cita web|url=http://www.ipm.ucdavis.edu/TOOLS/ANTKEY/pavement.html |t\\u00edtulo=Pavement ant \\u2014 ''Tetramorium caespitum'' |editorial=[[University of California, Davis]] |fecha=26-01-2004}}</ref> La especie es nativa de Europa, pero fue introducida en Am\\u00e9rica del Norte en el [[siglo XVIII]].\\n\\n== Fuentes ==\\n{{listaref}}\\n\\n[[Categor\\u00eda:Myrmicinae]]\",\n",
        "                        \"comment\": \"\",\n",
        "                        \"contentformat\": \"text/x-wiki\",\n",
        "                        \"contentmodel\": \"wikitext\",\n",
        "                        \"timestamp\": \"2013-10-29T22:56:50Z\",\n",
        "                        \"user\": \"Canyq\"\n",
        "                    }\n",
        "                ],\n",
        "                \"title\": \"Tetramorium caespitum\"\n",
        "            }\n",
        "        }\n",
        "    }\n",
        "}\n"
       ]
      }
     ],
     "prompt_number": 7
    },
    {
     "cell_type": "markdown",
     "metadata": {},
     "source": [
      "### Ejercicio 3\n",
      "\u00bfPodr\u00edamos obtener la misma informaci\u00f3n en un formato de representaci\u00f3n distinto, como XML? \u00bfDe qu\u00e9 forma?"
     ]
    },
    {
     "cell_type": "markdown",
     "metadata": {},
     "source": [
      "## Obtener datos de archivos\n",
      "\n",
      "Para practicar la obtenci\u00f3n y escritura de datos en archivos JSON, vamos a utilizar como ejemplo los datos del juego de cartas [Magic the Gathering](http://mtgjson.com/). En particular, emplearemos los ficheros [AllCards.json](http://mtgjson.com/json/AllCards.json) y [AllSets.json](http://mtgjson.com/json/AllSets.json).\n",
      "\n",
      "La documentaci\u00f3n sobre el contenido de los ficheros se pueden encontrar en los siguientes enlaces:\n",
      "* http://mtgjson.com/#exampleCard\n",
      "* http://mtgjson.com/#sets\n",
      "\n",
      "A continuaci\u00f3n presentamos un ejemplo de c\u00f3digo en Python para leer el fichero con todas las cartas de los diferentes juegos, imprimir el n\u00famero total de cartas y los datos de una carta elegida de forma aleatoria:"
     ]
    },
    {
     "cell_type": "code",
     "collapsed": false,
     "input": [
      "import ujson\n",
      "import json\n",
      "import random\n",
      "\n",
      "\n",
      "with open('AllCards.json') as f:\n",
      "    cards_dict = ujson.load(f)\n",
      "    cards_ids = cards_dict.keys()\n",
      "print \"N\u00famero total de cartas leidas: %d\" % len(cards_ids)\n",
      "print \"Sacamos una carta aleatoria del mazo:\"\n",
      "single_card = cards_dict[random.choice(cards_ids)]\n",
      "print json.dumps(single_card, sort_keys=True, indent=4,\n",
      "                 separators=(',', ': '))\n",
      "# Imprimir la carta de ejemplo en http://mtgjson.com/#cards\n",
      "print json.dumps(cards_dict[\"Sen Triplets\"], sort_keys=True, indent=4,\n",
      "                 separators=(',', ': '))"
     ],
     "language": "python",
     "metadata": {},
     "outputs": [
      {
       "output_type": "stream",
       "stream": "stdout",
       "text": [
        "N\u00famero total de cartas leidas: 14998\n",
        "Sacamos una carta aleatoria del mazo:\n",
        "{\n",
        "    \"cmc\": 2,\n",
        "    \"colors\": [\n",
        "        \"Red\"\n",
        "    ],\n",
        "    \"imageName\": \"fiery conclusion\",\n",
        "    \"layout\": \"normal\",\n",
        "    \"manaCost\": \"{1}{R}\",\n",
        "    \"name\": \"Fiery Conclusion\",\n",
        "    \"text\": \"As an additional cost to cast Fiery Conclusion, sacrifice a creature.\\nFiery Conclusion deals 5 damage to target creature.\",\n",
        "    \"type\": \"Instant\",\n",
        "    \"types\": [\n",
        "        \"Instant\"\n",
        "    ]\n",
        "}\n",
        "{\n",
        "    \"cmc\": 5,\n",
        "    \"colors\": [\n",
        "        \"White\",\n",
        "        \"Blue\",\n",
        "        \"Black\"\n",
        "    ],\n",
        "    \"imageName\": \"sen triplets\",\n",
        "    \"layout\": \"normal\",\n",
        "    \"manaCost\": \"{2}{W}{U}{B}\",\n",
        "    \"name\": \"Sen Triplets\",\n",
        "    \"power\": \"3\",\n",
        "    \"subtypes\": [\n",
        "        \"Human\",\n",
        "        \"Wizard\"\n",
        "    ],\n",
        "    \"supertypes\": [\n",
        "        \"Legendary\"\n",
        "    ],\n",
        "    \"text\": \"At the beginning of your upkeep, choose target opponent. This turn, that player can't cast spells or activate abilities and plays with his or her hand revealed. You may play cards from that player's hand this turn.\",\n",
        "    \"toughness\": \"3\",\n",
        "    \"type\": \"Legendary Artifact Creature \\u2014 Human Wizard\",\n",
        "    \"types\": [\n",
        "        \"Artifact\",\n",
        "        \"Creature\"\n",
        "    ]\n",
        "}\n"
       ]
      }
     ],
     "prompt_number": 13
    },
    {
     "cell_type": "markdown",
     "metadata": {},
     "source": [
      "### Ejercicio 4\n",
      "\n",
      "Genere un programa en Python que lea el archivo `AllSets.json` y calcule e imprima por pantalla los siguientes datos:\n",
      "\n",
      "* N\u00famero de cartas de cada set.\n",
      "* Listado de nombres de todos los sets con el borde blanco.\n",
      "* Listado de nombres de todos los sets que contengan cartas creadas por el artista 'Pete Venters'."
     ]
    },
    {
     "cell_type": "code",
     "collapsed": false,
     "input": [
      "## ESPACIO PARA LA RESOLUCION DEL EJERCICIO"
     ],
     "language": "python",
     "metadata": {},
     "outputs": [],
     "prompt_number": 3
    },
    {
     "cell_type": "heading",
     "level": 1,
     "metadata": {},
     "source": [
      "Conclusiones"
     ]
    },
    {
     "cell_type": "markdown",
     "metadata": {},
     "source": [
      "En este laboratorio hemos pr\u00e1cticado como podemos leer y escribir datos en dos de los formatos de representaci\u00f3n m\u00e1s utilizados, CSV y JSON. Los aspectos tratados han sido:\n",
      "\n",
      "* Introducir los formatos de representaci\u00f3n CSV y JSON.\n",
      "* Utilizar el m\u00f3dulo `csv` de la biblioteca est\u00e1ndar de Python para leer y escribir datos con ficheros CSV, considerando adem\u00e1s las posibles peculiaridades de sint\u00e1xis (dialectos).\n",
      "* Utilizar la biblioteca est\u00e1ndar de Python, as\u00ed como el m\u00f3dulo `ujson` para leer y escribir informaci\u00f3n en JSON de forma eficiente."
     ]
    },
    {
     "cell_type": "heading",
     "level": 1,
     "metadata": {},
     "source": [
      "Referencias"
     ]
    },
    {
     "cell_type": "markdown",
     "metadata": {},
     "source": [
      "1. [CSV](http://en.wikipedia.org/wiki/Comma-separated_values). Wikipedia (ingl\u00e9s). (\u00daltimo acceso marzo 2015).\n",
      "2. [CSV, Comma Separated Values (RFC 4180)](http://www.digitalpreservation.gov/formats/fdd/fdd000323.shtml). (\u00daltimo acceso marzo 2015).\n",
      "3. Doug Hellmann. [csv \u2013 Comma-separated value files](http://pymotw.com/2/csv/). PyMOTW. (\u00daltimo acceso marzo 2015).\n",
      "4. [Introducing JSON](http://json.org/) (\u00daltimo acceso marzo 2015).\n",
      "5. Russell, Matthew A. *Mining the Social Web: Data Mining Facebook, Twitter, LinkedIn, Google+, GitHub, and More*. 2nd Ed. O'Reilly Media, Inc., 2013.\n",
      "6. Mark Pilgrim. *Dive into Python 3*. Chap. 13 Serializing Python objects. http://www.diveintopython3.net/serializing.html. (\u00faltimo acceso Mar. 2015)."
     ]
    },
    {
     "cell_type": "code",
     "collapsed": false,
     "input": [],
     "language": "python",
     "metadata": {},
     "outputs": []
    }
   ],
   "metadata": {}
  }
 ]
}